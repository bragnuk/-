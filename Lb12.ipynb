{
 "cells": [
  {
   "cell_type": "code",
   "id": "initial_id",
   "metadata": {
    "collapsed": true,
    "ExecuteTime": {
     "end_time": "2024-10-12T14:09:44.565591Z",
     "start_time": "2024-10-12T14:09:44.384132Z"
    }
   },
   "source": [
    "import numpy as np\n",
    "\n",
    "def f1(x):\n",
    "    return 1 / np.sqrt(x**2 + 3.2)\n",
    "\n",
    "def rectangular_method(f, a, b, n):\n",
    "    h = (b - a) / n\n",
    "    x_left = np.linspace(a, b - h, n)\n",
    "    x_right = np.linspace(a + h, b, n)\n",
    "    x_middle = (x_left + x_right) / 2\n",
    "    left_sum = np.sum(f(x_left)) * h\n",
    "    right_sum = np.sum(f(x_right)) * h\n",
    "    middle_sum = np.sum(f(x_middle)) * h\n",
    "    return left_sum, right_sum, middle_sum\n",
    "\n",
    "# Параметри\n",
    "a1, b1, n1 = 1.2, 2.7, 10\n",
    "left_1, right_1, middle_1 = rectangular_method(f1, a1, b1, n1)\n",
    "\n",
    "print(f\"Ліві прямокутники: {left_1}\")\n",
    "print(f\"Праві прямокутники: {right_1}\")\n",
    "print(f\"Середні прямокутники: {middle_1}\")\n"
   ],
   "outputs": [
    {
     "name": "stdout",
     "output_type": "stream",
     "text": [
      "Ліві прямокутники: 0.5830758529312335\n",
      "Праві прямокутники: 0.5597531651969221\n",
      "Середні прямокутники: 0.5713001812704991\n"
     ]
    }
   ],
   "execution_count": 1
  },
  {
   "metadata": {
    "ExecuteTime": {
     "end_time": "2024-10-12T14:11:32.199732Z",
     "start_time": "2024-10-12T14:11:32.189417Z"
    }
   },
   "cell_type": "code",
   "source": [
    "import numpy as np\n",
    "\n",
    "def f2(x):\n",
    "    return (x + 1) * np.sin(x)\n",
    "\n",
    "def simpsons_method(f, a, b, n):\n",
    "    if n % 2 == 1:\n",
    "        raise ValueError(\"n must be an even number.\")\n",
    "    h = (b - a) / n\n",
    "    x = np.linspace(a, b, n + 1)\n",
    "    fx = f(x)\n",
    "    result = (fx[0] + 2 * np.sum(fx[2:n:2]) + 4 * np.sum(fx[1:n:2]) + fx[n]) * h / 3\n",
    "    return result\n",
    "\n",
    "# Параметри\n",
    "a2, b2, n2 = 1.6, 2.4, 8\n",
    "simpsons_2 = simpsons_method(f2, a2, b2, n2)\n",
    "\n",
    "print(f\"Метод Сімпсона: {simpsons_2}\")\n"
   ],
   "id": "53a61aa201d75810",
   "outputs": [
    {
     "name": "stdout",
     "output_type": "stream",
     "text": [
      "Метод Сімпсона: 2.1071113459112865\n"
     ]
    }
   ],
   "execution_count": 2
  },
  {
   "metadata": {
    "ExecuteTime": {
     "end_time": "2024-10-12T14:12:25.513090Z",
     "start_time": "2024-10-12T14:12:25.503389Z"
    }
   },
   "cell_type": "code",
   "source": [
    "import numpy as np\n",
    "\n",
    "def f3(x):\n",
    "    return 1 / np.sqrt(x**2 + 4)\n",
    "\n",
    "def trapezoidal_method(f, a, b, n):\n",
    "    h = (b - a) / n\n",
    "    x = np.linspace(a, b, n + 1)\n",
    "    fx = f(x)\n",
    "    result = (fx[0] + 2 * np.sum(fx[1:n]) + fx[n]) * h / 2\n",
    "    return result\n",
    "\n",
    "# Параметри\n",
    "a3, b3, n3 = 0.5, 2.3, 20\n",
    "trapezoidal_3 = trapezoidal_method(f3, a3, b3, n3)\n",
    "\n",
    "print(f\"Метод трапецій: {trapezoidal_3}\")\n"
   ],
   "id": "f8d574dde3597a1",
   "outputs": [
    {
     "name": "stdout",
     "output_type": "stream",
     "text": [
      "Метод трапецій: 0.7360833934924808\n"
     ]
    }
   ],
   "execution_count": 3
  }
 ],
 "metadata": {
  "kernelspec": {
   "display_name": "Python 3",
   "language": "python",
   "name": "python3"
  },
  "language_info": {
   "codemirror_mode": {
    "name": "ipython",
    "version": 2
   },
   "file_extension": ".py",
   "mimetype": "text/x-python",
   "name": "python",
   "nbconvert_exporter": "python",
   "pygments_lexer": "ipython2",
   "version": "2.7.6"
  }
 },
 "nbformat": 4,
 "nbformat_minor": 5
}
